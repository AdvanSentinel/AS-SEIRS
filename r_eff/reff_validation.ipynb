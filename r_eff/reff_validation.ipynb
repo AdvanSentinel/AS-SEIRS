{
 "cells": [
  {
   "cell_type": "raw",
   "id": "6eee7a70-9e6c-46c6-be59-38aac44c00e7",
   "metadata": {},
   "source": [
    "## ライブラリ読み込み\n",
    "library(readxl)\n",
    "library(EpiEstim)\n",
    "library(dplyr)\n",
    "library(openxlsx)"
   ]
  },
  {
   "cell_type": "code",
   "execution_count": 26,
   "id": "b7822a4a-ce3b-4268-9712-e6dc88a282d6",
   "metadata": {},
   "outputs": [],
   "source": [
    "## Excelファイル読み込み（読み込みファイルに合わせて修正してください）\n",
    "#data <- read_excel(\"Luxembourg.xlsx\")\n",
    "#data <- read_excel(\"Kyoto-cases.xlsx\")\n",
    "#data <- read_excel(\"Kanagawa-cases.xlsx\")\n",
    "data <- read_excel(\"Kanagawa-cases_cop.xlsx\")\n",
    "#data <- read_excel(\"city-a-cases.xlsx\")\n",
    "\n",
    "data <- data[, c(\"date\", \"cases\")]"
   ]
  },
  {
   "cell_type": "code",
   "execution_count": 27,
   "id": "d3c71a44-d8c5-4f36-9581-4288663b77e0",
   "metadata": {},
   "outputs": [
    {
     "name": "stderr",
     "output_type": "stream",
     "text": [
      "Default config will estimate R on weekly sliding windows.\n",
      "    To change this change the t_start and t_end arguments. \n",
      "\n"
     ]
    }
   ],
   "source": [
    "## カラム名変更\n",
    "names(data)[1] <- \"dates\"\n",
    "names(data)[2] <- \"I\"\n",
    "\n",
    "\n",
    "## フォーマットの変更\n",
    "data$dates <- as.Date(data$dates, format=\"%Y/%m/%d\")\n",
    "\n",
    "## 実効再生産数の計算\n",
    "R_est <- estimate_R(data, method = \"parametric_si\", config = make_config(list(mean_si = 3.5, std_si = 2.4)))\n",
    "\n",
    "## データ成形\n",
    "data_indent <- data %>% mutate(t_end = 1:n())\n",
    "output <- merge(data_indent, R_est$R, by = \"t_end\", all = FALSE)\n",
    "output <- dplyr::select(output, dates, I, t_start, t_end, everything())\n",
    "\n",
    "## データ出力（出力先に合わせて修正してください）\n",
    "write.xlsx(output, \"reproduction_number.xlsx\", sheetName = \"Sheet1\", rowNames = FALSE)"
   ]
  },
  {
   "cell_type": "code",
   "execution_count": null,
   "id": "242b5890-a09d-480c-bb57-eaee6c236a81",
   "metadata": {},
   "outputs": [],
   "source": []
  }
 ],
 "metadata": {
  "environment": {
   "kernel": "python3",
   "name": "common-cpu.m103",
   "type": "gcloud",
   "uri": "gcr.io/deeplearning-platform-release/base-cpu:m103"
  },
  "kernelspec": {
   "display_name": "Python 3",
   "language": "python",
   "name": "python3"
  },
  "language_info": {
   "codemirror_mode": {
    "name": "ipython",
    "version": 3
   },
   "file_extension": ".py",
   "mimetype": "text/x-python",
   "name": "python",
   "nbconvert_exporter": "python",
   "pygments_lexer": "ipython3",
   "version": "3.7.12"
  }
 },
 "nbformat": 4,
 "nbformat_minor": 5
}
